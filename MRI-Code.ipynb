{
  "cells": [
    {
      "cell_type": "code",
      "execution_count": null,
      "metadata": {
        "colab": {
          "base_uri": "https://localhost:8080/"
        },
        "id": "gBpyT9Yf14cA",
        "outputId": "aa9ac800-918e-4291-e4c4-b6163308333e"
      },
      "outputs": [
        {
          "name": "stdout",
          "output_type": "stream",
          "text": [
            "Collecting pydicom\n",
            "  Downloading pydicom-2.4.4-py3-none-any.whl (1.8 MB)\n",
            "\u001b[?25l     \u001b[90m━━━━━━━━━━━━━━━━━━━━━━━━━━━━━━━━━━━━━━━━\u001b[0m \u001b[32m0.0/1.8 MB\u001b[0m \u001b[31m?\u001b[0m eta \u001b[36m-:--:--\u001b[0m\r\u001b[2K     \u001b[91m━━━━\u001b[0m\u001b[91m╸\u001b[0m\u001b[90m━━━━━━━━━━━━━━━━━━━━━━━━━━━━━━━━━━━\u001b[0m \u001b[32m0.2/1.8 MB\u001b[0m \u001b[31m5.9 MB/s\u001b[0m eta \u001b[36m0:00:01\u001b[0m\r\u001b[2K     \u001b[91m━━━━━━━━━━━━\u001b[0m\u001b[90m╺\u001b[0m\u001b[90m━━━━━━━━━━━━━━━━━━━━━━━━━━━\u001b[0m \u001b[32m0.5/1.8 MB\u001b[0m \u001b[31m8.1 MB/s\u001b[0m eta \u001b[36m0:00:01\u001b[0m\r\u001b[2K     \u001b[91m━━━━━━━━━━━━━━━━━━━━━━\u001b[0m\u001b[90m╺\u001b[0m\u001b[90m━━━━━━━━━━━━━━━━━\u001b[0m \u001b[32m1.0/1.8 MB\u001b[0m \u001b[31m9.6 MB/s\u001b[0m eta \u001b[36m0:00:01\u001b[0m\r\u001b[2K     \u001b[91m━━━━━━━━━━━━━━━━━━━━━━━━━━━━━━━━━\u001b[0m\u001b[91m╸\u001b[0m\u001b[90m━━━━━━\u001b[0m \u001b[32m1.5/1.8 MB\u001b[0m \u001b[31m10.8 MB/s\u001b[0m eta \u001b[36m0:00:01\u001b[0m\r\u001b[2K     \u001b[90m━━━━━━━━━━━━━━━━━━━━━━━━━━━━━━━━━━━━━━━━\u001b[0m \u001b[32m1.8/1.8 MB\u001b[0m \u001b[31m10.4 MB/s\u001b[0m eta \u001b[36m0:00:00\u001b[0m\n",
            "\u001b[?25hInstalling collected packages: pydicom\n",
            "Successfully installed pydicom-2.4.4\n"
          ]
        }
      ],
      "source": [
        "!pip install pydicom"
      ]
    },
    {
      "cell_type": "code",
      "execution_count": null,
      "metadata": {
        "colab": {
          "background_save": true
        },
        "id": "oN-cfqxbDH4O",
        "outputId": "21a232f6-357d-4efe-838e-14567a2dd94a"
      },
      "outputs": [
        {
          "data": {
            "application/javascript": [
              "\n",
              "    async function download(id, filename, size) {\n",
              "      if (!google.colab.kernel.accessAllowed) {\n",
              "        return;\n",
              "      }\n",
              "      const div = document.createElement('div');\n",
              "      const label = document.createElement('label');\n",
              "      label.textContent = `Downloading \"${filename}\": `;\n",
              "      div.appendChild(label);\n",
              "      const progress = document.createElement('progress');\n",
              "      progress.max = size;\n",
              "      div.appendChild(progress);\n",
              "      document.body.appendChild(div);\n",
              "\n",
              "      const buffers = [];\n",
              "      let downloaded = 0;\n",
              "\n",
              "      const channel = await google.colab.kernel.comms.open(id);\n",
              "      // Send a message to notify the kernel that we're ready.\n",
              "      channel.send({})\n",
              "\n",
              "      for await (const message of channel.messages) {\n",
              "        // Send a message to notify the kernel that we're ready.\n",
              "        channel.send({})\n",
              "        if (message.buffers) {\n",
              "          for (const buffer of message.buffers) {\n",
              "            buffers.push(buffer);\n",
              "            downloaded += buffer.byteLength;\n",
              "            progress.value = downloaded;\n",
              "          }\n",
              "        }\n",
              "      }\n",
              "      const blob = new Blob(buffers, {type: 'application/binary'});\n",
              "      const a = document.createElement('a');\n",
              "      a.href = window.URL.createObjectURL(blob);\n",
              "      a.download = filename;\n",
              "      div.appendChild(a);\n",
              "      a.click();\n",
              "      div.remove();\n",
              "    }\n",
              "  "
            ],
            "text/plain": [
              "<IPython.core.display.Javascript object>"
            ]
          },
          "metadata": {},
          "output_type": "display_data"
        },
        {
          "data": {
            "application/javascript": [
              "download(\"download_dca94e59-da56-42c9-b0a9-6a66c37ee064\", \"patient_info.csv\", 615699)"
            ],
            "text/plain": [
              "<IPython.core.display.Javascript object>"
            ]
          },
          "metadata": {},
          "output_type": "display_data"
        }
      ],
      "source": [
        "import os\n",
        "import zipfile\n",
        "import pydicom\n",
        "import csv\n",
        "from datetime import datetime\n",
        "import re\n",
        "\n",
        "def tinhtuoi(tuoi):\n",
        "\n",
        "        today = datetime.today()\n",
        "        tuoi = datetime.strptime(tuoi, '%Y%m%d')\n",
        "        age = today.year - tuoi.year - ((today.month, today.day) < (tuoi.month, tuoi.day))\n",
        "        return age\n",
        "def sex(gender):\n",
        "    if gender == 'M':\n",
        "        return 'Nam'\n",
        "    else:\n",
        "        return 'Nu'\n",
        "\n",
        "def tinhten(name):\n",
        "    name = re.sub(r'\\b(M|F|T)\\b', '', str(name))\n",
        "    phanten = re.findall(r'\\b[A-Za-zÀ-ỹ]+\\b', name)\n",
        "    return ' '.join(phanten)\n",
        "\n",
        "def in4(dicom):\n",
        "    try:\n",
        "        ds = pydicom.dcmread(dicom, force=True)\n",
        "        name = ds.PatientName\n",
        "        patient_birth_date = ds.PatientBirthDate\n",
        "        patient_sex = ds.PatientSex\n",
        "        xung = ds.SeriesDescription\n",
        "        return {\n",
        "            'PatientName': tinhten(name),\n",
        "            'Age': tinhtuoi(patient_birth_date),\n",
        "            'PatientSex': sex(patient_sex),\n",
        "            'SeriesDescription': xung\n",
        "        }\n",
        "    except Exception as e:\n",
        "        print(f\"Error reading {dicom}: {e}\")\n",
        "        return {\n",
        "            'PatientName': 'Unknown',\n",
        "            'Age': 'Unknown',\n",
        "            'PatientSex': 'Unknown',\n",
        "            'SeriesDescription': 'Unknown'\n",
        "        }\n",
        "\n",
        "def giainen(path, extract):\n",
        "    zip = {}\n",
        "    for root, dirs, files in os.walk(path):\n",
        "        for file in files:\n",
        "            if file.endswith('.zip'):\n",
        "                zip_file_path = os.path.join(root, file)\n",
        "                extract_folder = os.path.join(extract, os.path.splitext(file)[0][:100])\n",
        "                try:\n",
        "                    with zipfile.ZipFile(zip_file_path, 'r') as zip_ref:\n",
        "                        zip_ref.extractall(extract_folder)\n",
        "                    zip[extract_folder] = file\n",
        "                except zipfile.BadZipFile:\n",
        "                    print(f\"BadZipFile Error: {zip_file_path} is not a zip file or it is corrupted.\")\n",
        "                except zipfile.LargeZipFile:\n",
        "                    print(f\"LargeZipFile Error: {zip_file_path} requires ZIP64 functionality but it is not enabled.\")\n",
        "                except PermissionError:\n",
        "                    print(f\"PermissionError: Permission denied for {zip_file_path}.\")\n",
        "                except Exception as e:\n",
        "                    print(f\"An unexpected error occurred while extracting {zip_file_path}: {e}\")\n",
        "    return zip\n",
        "\n",
        "patient_info_list = []\n",
        "\n",
        "path = '/content/drive/MyDrive/Không bệnh lý'\n",
        "extracted_folder_path = '/content/extracted_files1'\n",
        "\n",
        "zip = giainen(path, extracted_folder_path)\n",
        "\n",
        "for folder, zip_name in zip.items():\n",
        "    for root, dirs, files in os.walk(folder):\n",
        "        dicom_files = [file for file in files if file.endswith('.dcm')]\n",
        "        if dicom_files:\n",
        "            dicom_file_path = os.path.join(root, dicom_files[0])\n",
        "            patient_info = in4(dicom_file_path)\n",
        "            patient_info_list.append({\n",
        "                'Path': os.path.join(zip_name, root),\n",
        "                'NumberOfDicomFiles': len(dicom_files),\n",
        "                'PatientName': patient_info['PatientName'],\n",
        "                'Age': patient_info['Age'],\n",
        "                'PatientSex': patient_info['PatientSex'],\n",
        "                'SeriesDescription': patient_info['SeriesDescription']\n",
        "            })\n",
        "csv_file = 'patient_info.csv'\n",
        "with open(csv_file, mode='w', newline='') as file:\n",
        "    writer = csv.DictWriter(file, fieldnames=['Path', 'NumberOfDicomFiles', 'PatientName', 'Age', 'PatientSex', 'SeriesDescription'])\n",
        "    writer.writeheader()\n",
        "    writer.writerows(patient_info_list)\n",
        "\n",
        "    from google.colab import files\n",
        "    files.download(csv_file)\n"
      ]
    }
  ],
  "metadata": {
    "accelerator": "GPU",
    "colab": {
      "gpuType": "T4",
      "provenance": []
    },
    "kernelspec": {
      "display_name": "Python 3",
      "name": "python3"
    },
    "language_info": {
      "name": "python"
    }
  },
  "nbformat": 4,
  "nbformat_minor": 0
}